{
 "cells": [
  {
   "cell_type": "markdown",
   "metadata": {},
   "source": [
    "URL of the archive web-page which provides link to\n",
    "all video lectures. It would have been tiring to\n",
    "download each video manually.\n",
    "In this example, we first crawl the webpage to extract\n",
    "all the links and then download videos."
   ]
  },
  {
   "cell_type": "code",
   "execution_count": 1,
   "metadata": {},
   "outputs": [],
   "source": [
    "import requests\n",
    "import os\n",
    "from bs4 import BeautifulSoup\n",
    "\n",
    "archive_url = \"https://web.stanford.edu/~lmackey/stats306b/doc/\"\n",
    "archive_url2 = \"https://web.stanford.edu/~lmackey/stats300a/doc/\"\n",
    "archive_url3 = \"http://www.berkshirehathaway.com/letters/\"\n",
    "archive_url4 = \"http://circuit.ucsd.edu/~yhk/ece269-win18/handouts.html\""
   ]
  },
  {
   "cell_type": "code",
   "execution_count": 2,
   "metadata": {},
   "outputs": [],
   "source": [
    "def get_file_links(ftype, archive_url):\n",
    "     \n",
    "    # create response object\n",
    "    r = requests.get(archive_url)\n",
    "     \n",
    "    # create beautiful-soup object\n",
    "    soup = BeautifulSoup(r.content,'html5lib')\n",
    "     \n",
    "    # find all links on web-page\n",
    "    links = soup.findAll('a')\n",
    " \n",
    "    # filter the link sending with file type specified by ftype (i.e. .pdf, .mp4 etc.)\n",
    "    file_links = [archive_url + link['href'] for link in links if link['href'].endswith(ftype)]\n",
    " \n",
    "    return file_links"
   ]
  },
  {
   "cell_type": "code",
   "execution_count": 3,
   "metadata": {},
   "outputs": [],
   "source": [
    "def download_files(file_links):\n",
    " \n",
    "    for link in file_links:\n",
    " \n",
    "        '''iterate through all links in file_links\n",
    "        and download them one by one'''\n",
    "         \n",
    "        # obtain filename by splitting url and getting \n",
    "        # last string\n",
    "        file_name = link.split('/')[-1]   \n",
    " \n",
    "        print(\"Downloading file:%s\"%file_name)\n",
    "         \n",
    "        # create response object\n",
    "        r = requests.get(link, stream = True)\n",
    "         \n",
    "        # download started\n",
    "        with open(file_name, 'wb') as f:\n",
    "            for chunk in r.iter_content(chunk_size = 1024*1024):\n",
    "                if chunk:\n",
    "                    f.write(chunk)\n",
    "         \n",
    "        print(\"%s downloaded!\\n\"%file_name)\n",
    " \n",
    "    print(\"All files downloaded!\")\n",
    "    return"
   ]
  },
  {
   "cell_type": "code",
   "execution_count": 4,
   "metadata": {},
   "outputs": [
    {
     "name": "stdout",
     "output_type": "stream",
     "text": [
      "Downloading file:hw1.pdf\n",
      "hw1.pdf downloaded!\n",
      "\n",
      "Downloading file:matousek.pdf\n",
      "matousek.pdf downloaded!\n",
      "\n",
      "Downloading file:hw1sol.pdf\n",
      "hw1sol.pdf downloaded!\n",
      "\n",
      "Downloading file:hw2.pdf\n",
      "hw2.pdf downloaded!\n",
      "\n",
      "Downloading file:hw2sol.pdf\n",
      "hw2sol.pdf downloaded!\n",
      "\n",
      "Downloading file:hw3.pdf\n",
      "hw3.pdf downloaded!\n",
      "\n",
      "Downloading file:hw3sol.pdf\n",
      "hw3sol.pdf downloaded!\n",
      "\n",
      "Downloading file:hw4.pdf\n",
      "hw4.pdf downloaded!\n",
      "\n",
      "Downloading file:midterm.pdf\n",
      "midterm.pdf downloaded!\n",
      "\n",
      "Downloading file:midtermsol.pdf\n",
      "midtermsol.pdf downloaded!\n",
      "\n",
      "Downloading file:hw4sol.pdf\n",
      "hw4sol.pdf downloaded!\n",
      "\n",
      "Downloading file:hw5.pdf\n",
      "hw5.pdf downloaded!\n",
      "\n",
      "Downloading file:hw5sol.pdf\n",
      "hw5sol.pdf downloaded!\n",
      "\n",
      "Downloading file:hw6.pdf\n",
      "hw6.pdf downloaded!\n",
      "\n",
      "Downloading file:hw6sol.pdf\n",
      "hw6sol.pdf downloaded!\n",
      "\n",
      "Downloading file:hw7.pdf\n",
      "hw7.pdf downloaded!\n",
      "\n",
      "Downloading file:hw7sol.pdf\n",
      "hw7sol.pdf downloaded!\n",
      "\n",
      "Downloading file:final.pdf\n",
      "final.pdf downloaded!\n",
      "\n",
      "Downloading file:finalsol.pdf\n",
      "finalsol.pdf downloaded!\n",
      "\n",
      "All files downloaded!\n"
     ]
    }
   ],
   "source": [
    "file_links = get_file_links('.pdf',archive_url4)\n",
    "download_files(file_links)"
   ]
  },
  {
   "cell_type": "code",
   "execution_count": null,
   "metadata": {},
   "outputs": [],
   "source": []
  }
 ],
 "metadata": {
  "kernelspec": {
   "display_name": "Python 3",
   "language": "python",
   "name": "python3"
  },
  "language_info": {
   "codemirror_mode": {
    "name": "ipython",
    "version": 3
   },
   "file_extension": ".py",
   "mimetype": "text/x-python",
   "name": "python",
   "nbconvert_exporter": "python",
   "pygments_lexer": "ipython3",
   "version": "3.6.4"
  }
 },
 "nbformat": 4,
 "nbformat_minor": 1
}
