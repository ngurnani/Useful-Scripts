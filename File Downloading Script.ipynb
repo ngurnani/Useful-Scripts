{
 "cells": [
  {
   "cell_type": "markdown",
   "metadata": {},
   "source": [
    "URL of the archive web-page which provides link to\n",
    "all video lectures. It would have been tiring to\n",
    "download each video manually.\n",
    "In this example, we first crawl the webpage to extract\n",
    "all the links and then download videos."
   ]
  },
  {
   "cell_type": "code",
   "execution_count": 2,
   "metadata": {},
   "outputs": [],
   "source": [
    "import requests\n",
    "from bs4 import BeautifulSoup\n",
    "\n",
    "archive_url = \"https://web.stanford.edu/~lmackey/stats306b/doc/\"\n",
    "archive_url2 = \"https://web.stanford.edu/~lmackey/stats300a/doc/\""
   ]
  },
  {
   "cell_type": "code",
   "execution_count": 4,
   "metadata": {
    "collapsed": true
   },
   "outputs": [],
   "source": [
    "def get_file_links(ftype, archive_url):\n",
    "     \n",
    "    # create response object\n",
    "    r = requests.get(archive_url)\n",
    "     \n",
    "    # create beautiful-soup object\n",
    "    soup = BeautifulSoup(r.content,'html5lib')\n",
    "     \n",
    "    # find all links on web-page\n",
    "    links = soup.findAll('a')\n",
    " \n",
    "    # filter the link sending with file type specified by ftype (i.e. .pdf, .mp4 etc.)\n",
    "    file_links = [archive_url + link['href'] for link in links if link['href'].endswith(ftype)]\n",
    " \n",
    "    return file_links"
   ]
  },
  {
   "cell_type": "code",
   "execution_count": 5,
   "metadata": {},
   "outputs": [],
   "source": [
    "def download_files(file_links):\n",
    " \n",
    "    for link in file_links:\n",
    " \n",
    "        '''iterate through all links in file_links\n",
    "        and download them one by one'''\n",
    "         \n",
    "        # obtain filename by splitting url and getting \n",
    "        # last string\n",
    "        file_name = link.split('/')[-1]   \n",
    " \n",
    "        print \"Downloading file:%s\"%file_name\n",
    "         \n",
    "        # create response object\n",
    "        r = requests.get(link, stream = True)\n",
    "         \n",
    "        # download started\n",
    "        with open(file_name, 'wb') as f:\n",
    "            for chunk in r.iter_content(chunk_size = 1024*1024):\n",
    "                if chunk:\n",
    "                    f.write(chunk)\n",
    "         \n",
    "        print \"%s downloaded!\\n\"%file_name\n",
    " \n",
    "    print \"All files downloaded!\"\n",
    "    return"
   ]
  },
  {
   "cell_type": "code",
   "execution_count": 6,
   "metadata": {},
   "outputs": [
    {
     "name": "stdout",
     "output_type": "stream",
     "text": [
      "Downloading file:lecture-01.pdf\n",
      "lecture-01.pdf downloaded!\n",
      "\n",
      "Downloading file:lecture-02.pdf\n",
      "lecture-02.pdf downloaded!\n",
      "\n",
      "Downloading file:lecture-03.pdf\n",
      "lecture-03.pdf downloaded!\n",
      "\n",
      "Downloading file:lecture-04.pdf\n",
      "lecture-04.pdf downloaded!\n",
      "\n",
      "Downloading file:lecture-05.pdf\n",
      "lecture-05.pdf downloaded!\n",
      "\n",
      "Downloading file:lecture-06.pdf\n",
      "lecture-06.pdf downloaded!\n",
      "\n",
      "Downloading file:lecture-07.pdf\n",
      "lecture-07.pdf downloaded!\n",
      "\n",
      "Downloading file:lecture-08.pdf\n",
      "lecture-08.pdf downloaded!\n",
      "\n",
      "Downloading file:lecture-09.pdf\n",
      "lecture-09.pdf downloaded!\n",
      "\n",
      "Downloading file:lecture-10.pdf\n",
      "lecture-10.pdf downloaded!\n",
      "\n",
      "Downloading file:lecture-11.pdf\n",
      "lecture-11.pdf downloaded!\n",
      "\n",
      "Downloading file:lecture-12.pdf\n",
      "lecture-12.pdf downloaded!\n",
      "\n",
      "Downloading file:lecture-13.pdf\n",
      "lecture-13.pdf downloaded!\n",
      "\n",
      "Downloading file:lecture-14.pdf\n",
      "lecture-14.pdf downloaded!\n",
      "\n",
      "Downloading file:lecture-15.pdf\n",
      "lecture-15.pdf downloaded!\n",
      "\n",
      "Downloading file:lecture-16.pdf\n",
      "lecture-16.pdf downloaded!\n",
      "\n",
      "Downloading file:lecture-17.pdf\n",
      "lecture-17.pdf downloaded!\n",
      "\n",
      "Downloading file:lecture-18.pdf\n",
      "lecture-18.pdf downloaded!\n",
      "\n",
      "Downloading file:lecture-19.pdf\n",
      "lecture-19.pdf downloaded!\n",
      "\n",
      "Downloading file:lecture-20.pdf\n",
      "lecture-20.pdf downloaded!\n",
      "\n",
      "All files downloaded!\n"
     ]
    }
   ],
   "source": [
    "file_links = get_file_links('.pdf',\"https://stanford.edu/class/stats300b/ScribeNotes/2017/\")\n",
    "download_files(file_links)"
   ]
  },
  {
   "cell_type": "code",
   "execution_count": null,
   "metadata": {
    "collapsed": true
   },
   "outputs": [],
   "source": []
  }
 ],
 "metadata": {
  "kernelspec": {
   "display_name": "Python 3",
   "language": "python",
   "name": "python3"
  },
  "language_info": {
   "codemirror_mode": {
    "name": "ipython",
    "version": 3
   },
   "file_extension": ".py",
   "mimetype": "text/x-python",
   "name": "python",
   "nbconvert_exporter": "python",
   "pygments_lexer": "ipython3",
   "version": "3.6.4"
  }
 },
 "nbformat": 4,
 "nbformat_minor": 1
}
