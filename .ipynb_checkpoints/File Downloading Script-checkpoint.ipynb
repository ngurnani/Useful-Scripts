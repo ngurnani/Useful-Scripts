{
 "cells": [
  {
   "cell_type": "markdown",
   "metadata": {},
   "source": [
    "URL of the archive web-page which provides link to\n",
    "all video lectures. It would have been tiring to\n",
    "download each video manually.\n",
    "In this example, we first crawl the webpage to extract\n",
    "all the links and then download videos."
   ]
  },
  {
   "cell_type": "code",
   "execution_count": 10,
   "metadata": {},
   "outputs": [],
   "source": [
    "import requests\n",
    "import os\n",
    "from bs4 import BeautifulSoup\n",
    "\n",
    "archive_url = \"https://web.stanford.edu/~lmackey/stats306b/doc/\"\n",
    "archive_url2 = \"https://web.stanford.edu/~lmackey/stats300a/doc/\"\n",
    "archive_url3 = \"http://www.berkshirehathaway.com/letters/\"\n",
    "archive_url4 = \"http://circuit.ucsd.edu/~yhk/ece269-win18/handouts.html\""
   ]
  },
  {
   "cell_type": "code",
   "execution_count": 6,
   "metadata": {},
   "outputs": [],
   "source": [
    "def get_file_links(ftype, archive_url):\n",
    "     \n",
    "    # create response object\n",
    "    r = requests.get(archive_url)\n",
    "     \n",
    "    # create beautiful-soup object\n",
    "    soup = BeautifulSoup(r.content,'html5lib')\n",
    "     \n",
    "    # find all links on web-page\n",
    "    links = soup.findAll('a')\n",
    " \n",
    "    # filter the link sending with file type specified by ftype (i.e. .pdf, .mp4 etc.)\n",
    "    file_links = [archive_url + link['href'] for link in links if link['href'].endswith(ftype)]\n",
    " \n",
    "    return file_links"
   ]
  },
  {
   "cell_type": "code",
   "execution_count": 9,
   "metadata": {},
   "outputs": [],
   "source": [
    "def download_files(file_links):\n",
    " \n",
    "    for link in file_links:\n",
    " \n",
    "        '''iterate through all links in file_links\n",
    "        and download them one by one'''\n",
    "         \n",
    "        # obtain filename by splitting url and getting \n",
    "        # last string\n",
    "        file_name = link.split('/')[-1]   \n",
    " \n",
    "        print(\"Downloading file:%s\"%file_name)\n",
    "         \n",
    "        # create response object\n",
    "        r = requests.get(link, stream = True)\n",
    "         \n",
    "        # download started\n",
    "        with open(file_name, 'wb') as f:\n",
    "            for chunk in r.iter_content(chunk_size = 1024*1024):\n",
    "                if chunk:\n",
    "                    f.write(chunk)\n",
    "         \n",
    "        print(\"%s downloaded!\\n\"%file_name)\n",
    " \n",
    "    print(\"All files downloaded!\")\n",
    "    return"
   ]
  },
  {
   "cell_type": "code",
   "execution_count": 19,
   "metadata": {},
   "outputs": [
    {
     "name": "stdout",
     "output_type": "stream",
     "text": [
      "Downloading file:1998pdf.pdf\n",
      "1998pdf.pdf downloaded!\n",
      "\n",
      "Downloading file:2000pdf.pdf\n",
      "2000pdf.pdf downloaded!\n",
      "\n",
      "Downloading file:2001pdf.pdf\n",
      "2001pdf.pdf downloaded!\n",
      "\n",
      "Downloading file:2002pdf.pdf\n",
      "2002pdf.pdf downloaded!\n",
      "\n",
      "Downloading file:2003ltr.pdf\n",
      "2003ltr.pdf downloaded!\n",
      "\n",
      "Downloading file:2004ltr.pdf\n",
      "2004ltr.pdf downloaded!\n",
      "\n",
      "Downloading file:2005ltr.pdf\n",
      "2005ltr.pdf downloaded!\n",
      "\n",
      "Downloading file:2006ltr.pdf\n",
      "2006ltr.pdf downloaded!\n",
      "\n",
      "Downloading file:2007ltr.pdf\n",
      "2007ltr.pdf downloaded!\n",
      "\n",
      "Downloading file:2008ltr.pdf\n",
      "2008ltr.pdf downloaded!\n",
      "\n",
      "Downloading file:2009ltr.pdf\n",
      "2009ltr.pdf downloaded!\n",
      "\n",
      "Downloading file:2010ltr.pdf\n",
      "2010ltr.pdf downloaded!\n",
      "\n",
      "Downloading file:2011ltr.pdf\n",
      "2011ltr.pdf downloaded!\n",
      "\n",
      "Downloading file:2012ltr.pdf\n",
      "2012ltr.pdf downloaded!\n",
      "\n",
      "Downloading file:2013ltr.pdf\n",
      "2013ltr.pdf downloaded!\n",
      "\n",
      "Downloading file:2014ltr.pdf\n",
      "2014ltr.pdf downloaded!\n",
      "\n",
      "Downloading file:2015ltr.pdf\n",
      "2015ltr.pdf downloaded!\n",
      "\n",
      "Downloading file:2016ltr.pdf\n",
      "2016ltr.pdf downloaded!\n",
      "\n",
      "Downloading file:2017ltr.pdf\n",
      "2017ltr.pdf downloaded!\n",
      "\n",
      "Downloading file:final1999pdf.pdf\n",
      "final1999pdf.pdf downloaded!\n",
      "\n",
      "Downloading file:growing.pdf\n",
      "growing.pdf downloaded!\n",
      "\n",
      "Downloading file:options.pdf\n",
      "options.pdf downloaded!\n",
      "\n",
      "Downloading file:rvbiz.pdf\n",
      "rvbiz.pdf downloaded!\n",
      "\n",
      "All files downloaded!\n"
     ]
    }
   ],
   "source": [
    "file_links = get_file_links('.pdf',archive_url3)\n",
    "download_files(file_links)"
   ]
  },
  {
   "cell_type": "code",
   "execution_count": null,
   "metadata": {},
   "outputs": [],
   "source": []
  }
 ],
 "metadata": {
  "kernelspec": {
   "display_name": "Python 3",
   "language": "python",
   "name": "python3"
  },
  "language_info": {
   "codemirror_mode": {
    "name": "ipython",
    "version": 3
   },
   "file_extension": ".py",
   "mimetype": "text/x-python",
   "name": "python",
   "nbconvert_exporter": "python",
   "pygments_lexer": "ipython3",
   "version": "3.6.4"
  }
 },
 "nbformat": 4,
 "nbformat_minor": 1
}
