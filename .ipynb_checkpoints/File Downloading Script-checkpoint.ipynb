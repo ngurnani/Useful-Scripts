{
 "cells": [
  {
   "cell_type": "markdown",
   "metadata": {},
   "source": [
    "URL of the archive web-page which provides link to\n",
    "all video lectures. It would have been tiring to\n",
    "download each video manually.\n",
    "In this example, we first crawl the webpage to extract\n",
    "all the links and then download videos."
   ]
  },
  {
   "cell_type": "code",
   "execution_count": 5,
   "metadata": {},
   "outputs": [],
   "source": [
    "import requests\n",
    "from bs4 import BeautifulSoup\n",
    "\n",
    "archive_url = \"https://web.stanford.edu/~lmackey/stats306b/doc/\"\n",
    "archive_url2 = \"https://web.stanford.edu/~lmackey/stats300a/doc/\"\n",
    "archive_url3 = \"http://www.berkshirehathaway.com/letters/\""
   ]
  },
  {
   "cell_type": "code",
   "execution_count": 6,
   "metadata": {},
   "outputs": [],
   "source": [
    "def get_file_links(ftype, archive_url):\n",
    "     \n",
    "    # create response object\n",
    "    r = requests.get(archive_url)\n",
    "     \n",
    "    # create beautiful-soup object\n",
    "    soup = BeautifulSoup(r.content,'html5lib')\n",
    "     \n",
    "    # find all links on web-page\n",
    "    links = soup.findAll('a')\n",
    " \n",
    "    # filter the link sending with file type specified by ftype (i.e. .pdf, .mp4 etc.)\n",
    "    file_links = [archive_url + link['href'] for link in links if link['href'].endswith(ftype)]\n",
    " \n",
    "    return file_links"
   ]
  },
  {
   "cell_type": "code",
   "execution_count": 8,
   "metadata": {},
   "outputs": [
    {
     "ename": "SyntaxError",
     "evalue": "Missing parentheses in call to 'print'. Did you mean print(print \"Downloading file:%s\"%file_name)? (<ipython-input-8-1ca099843c91>, line 12)",
     "output_type": "error",
     "traceback": [
      "\u001b[0;36m  File \u001b[0;32m\"<ipython-input-8-1ca099843c91>\"\u001b[0;36m, line \u001b[0;32m12\u001b[0m\n\u001b[0;31m    print \"Downloading file:%s\"%file_name\u001b[0m\n\u001b[0m                              ^\u001b[0m\n\u001b[0;31mSyntaxError\u001b[0m\u001b[0;31m:\u001b[0m Missing parentheses in call to 'print'. Did you mean print(print \"Downloading file:%s\"%file_name)?\n"
     ]
    }
   ],
   "source": [
    "def download_files(file_links):\n",
    " \n",
    "    for link in file_links:\n",
    " \n",
    "        '''iterate through all links in file_links\n",
    "        and download them one by one'''\n",
    "         \n",
    "        # obtain filename by splitting url and getting \n",
    "        # last string\n",
    "        file_name = link.split('/')[-1]   \n",
    " \n",
    "        print(\"Downloading file:%s\"%file_name)\n",
    "         \n",
    "        # create response object\n",
    "        r = requests.get(link, stream = True)\n",
    "         \n",
    "        # download started\n",
    "        with open(file_name, 'wb') as f:\n",
    "            for chunk in r.iter_content(chunk_size = 1024*1024):\n",
    "                if chunk:\n",
    "                    f.write(chunk)\n",
    "         \n",
    "        print(\"%s downloaded!\\n\"%file_name)\n",
    " \n",
    "    print(\"All files downloaded!\")\n",
    "    return"
   ]
  },
  {
   "cell_type": "code",
   "execution_count": 4,
   "metadata": {},
   "outputs": [
    {
     "ename": "NameError",
     "evalue": "name 'download_files' is not defined",
     "output_type": "error",
     "traceback": [
      "\u001b[0;31m---------------------------------------------------------------------------\u001b[0m",
      "\u001b[0;31mNameError\u001b[0m                                 Traceback (most recent call last)",
      "\u001b[0;32m<ipython-input-4-39f36f96cd36>\u001b[0m in \u001b[0;36m<module>\u001b[0;34m()\u001b[0m\n\u001b[1;32m      1\u001b[0m \u001b[0mfile_links\u001b[0m \u001b[0;34m=\u001b[0m \u001b[0mget_file_links\u001b[0m\u001b[0;34m(\u001b[0m\u001b[0;34m'.pdf'\u001b[0m\u001b[0;34m,\u001b[0m\u001b[0marchive_url3\u001b[0m\u001b[0;34m)\u001b[0m\u001b[0;34m\u001b[0m\u001b[0m\n\u001b[0;32m----> 2\u001b[0;31m \u001b[0mdownload_files\u001b[0m\u001b[0;34m(\u001b[0m\u001b[0mfile_links\u001b[0m\u001b[0;34m)\u001b[0m\u001b[0;34m\u001b[0m\u001b[0m\n\u001b[0m",
      "\u001b[0;31mNameError\u001b[0m: name 'download_files' is not defined"
     ]
    }
   ],
   "source": [
    "file_links = get_file_links('.pdf',archive_url3)\n",
    "download_files(file_links)"
   ]
  },
  {
   "cell_type": "code",
   "execution_count": null,
   "metadata": {
    "collapsed": true
   },
   "outputs": [],
   "source": []
  }
 ],
 "metadata": {
  "kernelspec": {
   "display_name": "Python 3",
   "language": "python",
   "name": "python3"
  },
  "language_info": {
   "codemirror_mode": {
    "name": "ipython",
    "version": 3
   },
   "file_extension": ".py",
   "mimetype": "text/x-python",
   "name": "python",
   "nbconvert_exporter": "python",
   "pygments_lexer": "ipython3",
   "version": "3.6.4"
  }
 },
 "nbformat": 4,
 "nbformat_minor": 1
}
