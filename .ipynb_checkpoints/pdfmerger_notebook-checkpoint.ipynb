{
 "cells": [
  {
   "cell_type": "code",
   "execution_count": 1,
   "metadata": {},
   "outputs": [],
   "source": [
    "# simple script to merge pdf files in directory\n",
    "import os\n",
    "from os import listdir\n",
    "from PyPDF2 import PdfFileMerger, PdfFileReader"
   ]
  },
  {
   "cell_type": "code",
   "execution_count": 10,
   "metadata": {},
   "outputs": [],
   "source": [
    "target_directory = '/Users/ngurnani/Desktop/Trades, Quotes, Prices - CapitalFundManagement'\n",
    "os.chdir(target_directory)\n",
    "\n",
    "filenames = [f for f in listdir(target_directory)]\n",
    "filenames.sort() # pdfs sorted in correct order"
   ]
  },
  {
   "cell_type": "code",
   "execution_count": 11,
   "metadata": {},
   "outputs": [
    {
     "data": {
      "text/plain": [
       "['01.0_pp_i_iv_Frontmatter.pdf',\n",
       " '02.0_pp_v_vi_Dedication.pdf',\n",
       " '03.0_pp_vii_xii_Contents.pdf',\n",
       " '04.0_pp_xiii_xvi_Preface.pdf',\n",
       " '05.0_pp_xvii_xviii_Acknowledgements.pdf',\n",
       " '06.0_pp_1_4_HOW_AND_WHY_DO_PRICES_MOVE.pdf',\n",
       " '06.1_pp_5_21_The_Ecology_of_Financial_Markets.pdf',\n",
       " '06.2_pp_22_40_The_Statistics_of_Price_Changes_An_Informal_Primer.pdf',\n",
       " '07.0_pp_41_43_LIMIT_ORDER_BOOKS_INTRODUCTION.pdf',\n",
       " '07.1_pp_44_57_Limit_Order_Books.pdf',\n",
       " '07.2_pp_58_74_Empirical_Properties_of_Limit_Order_Books.pdf',\n",
       " '08.0_pp_75_77_LIMIT_ORDER_BOOKS_MODELS.pdf',\n",
       " '08.1_pp_78_100_Single-Queue_Dynamics_Simple_Models.pdf',\n",
       " '08.2_pp_101_116_Single-Queue_Dynamics_for_Large-Tick_Stocks.pdf',\n",
       " '08.3_pp_117_133_Joint-Queue_Dynamics_for_Large-Tick_Stocks.pdf',\n",
       " '08.4_pp_134_158_The_Santa_Fe_Model_for_Limit_Order_Books.pdf',\n",
       " '09.0_pp_159_162_CLUSTERING_AND_CORRELATIONS.pdf',\n",
       " '09.1_pp_163_186_Time_Clustering_and_Hawkes_Processes.pdf',\n",
       " '09.2_pp_187_204_Long-Range_Persistence_of_Order_Flow.pdf',\n",
       " '10.0_pp_205_207_PRICE_IMPACT.pdf',\n",
       " '10.1_pp_208_228_The_Impact_of_Market_Orders.pdf',\n",
       " '10.2_pp_229_244_The_Impact_of_Metaorders.pdf',\n",
       " '11.0_pp_245_248_MARKET_DYNAMICS_AT_THE_MICRO-SCALE.pdf',\n",
       " '11.1_pp_249_269_The_Propagator_Model.pdf',\n",
       " '11.2_pp_270_286_Generalised_Propagator_Models.pdf',\n",
       " '12.0_pp_287_289_ADVERSE_SELECTION_AND_LIQUIDITY_PROVISION.pdf',\n",
       " '12.1_pp_290_297_The_Kyle_Model.pdf',\n",
       " '12.2_pp_298_318_The_Determinants_of_the_BidAsk_Spread.pdf',\n",
       " '12.3_pp_319_332_The_Profitability_of_Market-Making.pdf',\n",
       " '13.0_pp_333_336_MARKET_DYNAMICS_AT_THE_MESO-SCALE.pdf',\n",
       " '13.1_pp_337_353_Latent_Liquidity_and_Walrasian_Auctions.pdf',\n",
       " '13.2_pp_354_365_Impact_Dynamics_in_a_Continuous-Time_Double_Auction.pdf',\n",
       " '13.3_pp_366_380_The_Information_Content_of_Prices.pdf',\n",
       " '14.0_pp_381_383_PRACTICAL_CONSEQUENCES.pdf',\n",
       " '14.1_pp_384_405_Optimal_Execution.pdf',\n",
       " '14.2_pp_406_421_Market_Fairness_and_Stability.pdf',\n",
       " '15.0_pp_422_440_Appendix.pdf',\n",
       " '16.0_pp_441_444_Index.pdf']"
      ]
     },
     "execution_count": 11,
     "metadata": {},
     "output_type": "execute_result"
    }
   ],
   "source": [
    "filenames"
   ]
  },
  {
   "cell_type": "code",
   "execution_count": 12,
   "metadata": {},
   "outputs": [],
   "source": [
    "merger = PdfFileMerger()\n",
    "for filename in filenames:\n",
    "    merger.append(PdfFileReader(open(filename, 'rb')))\n",
    "\n",
    "merger.write(\"document-output.pdf\")"
   ]
  },
  {
   "cell_type": "code",
   "execution_count": null,
   "metadata": {},
   "outputs": [],
   "source": []
  }
 ],
 "metadata": {
  "kernelspec": {
   "display_name": "Python 3",
   "language": "python",
   "name": "python3"
  },
  "language_info": {
   "codemirror_mode": {
    "name": "ipython",
    "version": 3
   },
   "file_extension": ".py",
   "mimetype": "text/x-python",
   "name": "python",
   "nbconvert_exporter": "python",
   "pygments_lexer": "ipython3",
   "version": "3.6.4"
  }
 },
 "nbformat": 4,
 "nbformat_minor": 2
}
