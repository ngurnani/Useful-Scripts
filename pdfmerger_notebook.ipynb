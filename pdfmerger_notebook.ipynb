{
 "cells": [
  {
   "cell_type": "code",
   "execution_count": 1,
   "metadata": {},
   "outputs": [],
   "source": [
    "# simple script to merge pdf files in directory\n",
    "import os\n",
    "from os import listdir\n",
    "from PyPDF2 import PdfFileMerger, PdfFileReader"
   ]
  },
  {
   "cell_type": "code",
   "execution_count": 2,
   "metadata": {},
   "outputs": [],
   "source": [
    "target_directory = '/Users/ngurnani/Desktop/cambridge-core_bootstrap-methods-and-their-application_11May2018'\n",
    "os.chdir(target_directory)\n",
    "\n",
    "filenames = [f for f in listdir(target_directory)]\n",
    "filenames.sort() # pdfs sorted in correct order"
   ]
  },
  {
   "cell_type": "code",
   "execution_count": 3,
   "metadata": {},
   "outputs": [
    {
     "data": {
      "text/plain": [
       "['01.0_pp_i_iv_Frontmatter.pdf',\n",
       " '02.0_pp_v_viii_Contents.pdf',\n",
       " '03.0_pp_ix_x_Preface.pdf',\n",
       " '04.0_pp_1_10_Introduction.pdf',\n",
       " '05.0_pp_11_69_The_Basic_Bootstraps.pdf',\n",
       " '06.0_pp_70_135_Further_Ideas.pdf',\n",
       " '07.0_pp_136_190_Tests.pdf',\n",
       " '08.0_pp_191_255_Confidence_Intervals.pdf',\n",
       " '09.0_pp_256_325_Linear_Regression.pdf',\n",
       " '10.0_pp_326_384_Further_Topics_in_Regression.pdf',\n",
       " '11.0_pp_385_436_Complex_Dependence.pdf',\n",
       " '12.0_pp_437_498_Improved_Calculation.pdf',\n",
       " '13.0_pp_499_521_Semiparametric_Likelihood_Inference.pdf',\n",
       " '14.0_pp_522_550_Computer_Implementation.pdf',\n",
       " '15.0_pp_551_554_Cumulant_Calculations.pdf',\n",
       " '16.0_pp_555_567_Bibliography.pdf',\n",
       " '17.0_pp_568_571_Name_Index.pdf',\n",
       " '18.0_pp_572_574_Example_index.pdf',\n",
       " '19.0_pp_575_582_Subject_index.pdf']"
      ]
     },
     "execution_count": 3,
     "metadata": {},
     "output_type": "execute_result"
    }
   ],
   "source": [
    "filenames"
   ]
  },
  {
   "cell_type": "code",
   "execution_count": 4,
   "metadata": {},
   "outputs": [],
   "source": [
    "merger = PdfFileMerger()\n",
    "for filename in filenames:\n",
    "    merger.append(PdfFileReader(open(filename, 'rb')))\n",
    "\n",
    "merger.write(\"document-output.pdf\")"
   ]
  },
  {
   "cell_type": "code",
   "execution_count": null,
   "metadata": {},
   "outputs": [],
   "source": []
  }
 ],
 "metadata": {
  "kernelspec": {
   "display_name": "Python 3",
   "language": "python",
   "name": "python3"
  },
  "language_info": {
   "codemirror_mode": {
    "name": "ipython",
    "version": 3
   },
   "file_extension": ".py",
   "mimetype": "text/x-python",
   "name": "python",
   "nbconvert_exporter": "python",
   "pygments_lexer": "ipython3",
   "version": "3.6.4"
  }
 },
 "nbformat": 4,
 "nbformat_minor": 2
}
